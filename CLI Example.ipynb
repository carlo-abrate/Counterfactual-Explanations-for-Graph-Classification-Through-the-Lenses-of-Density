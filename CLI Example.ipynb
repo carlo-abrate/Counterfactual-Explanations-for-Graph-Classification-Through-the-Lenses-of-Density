{
 "cells": [
  {
   "cell_type": "code",
   "execution_count": 1,
   "id": "4c210e66",
   "metadata": {},
   "outputs": [],
   "source": [
    "from dataset import import_dataset\n",
    "from search import dcs,edit_distance\n",
    "from Oracle import Oracle\n",
    "import pickle\n",
    "import pandas as pd\n",
    "import random\n",
    "import networkx as nx\n",
    "import seaborn as sns\n",
    "import matplotlib.pyplot as plt\n",
    "import numpy as np"
   ]
  },
  {
   "cell_type": "code",
   "execution_count": 2,
   "id": "62ca8ef8",
   "metadata": {},
   "outputs": [],
   "source": [
    "from warnings import simplefilter\n",
    "simplefilter(action='ignore', category=FutureWarning)"
   ]
  },
  {
   "cell_type": "markdown",
   "id": "609bff9d",
   "metadata": {},
   "source": [
    "### Dataset"
   ]
  },
  {
   "cell_type": "code",
   "execution_count": 3,
   "id": "9643ad7a",
   "metadata": {},
   "outputs": [],
   "source": [
    "# Dataset name\n",
    "#data_name = \"OHSU\"\n",
    "#data_name = \"Peking_1\"\n",
    "#data_name = \"KKI\"\n",
    "#data_name = \"autism\"\n",
    "#data_name = \"bip80\"\n",
    "#data_name = \"bipolar90\"\n",
    "#data_name = \"adhd_90\"\n",
    "data_name = \"adhdm_90\"\n",
    "\n",
    "# Black-box\n",
    "training = True\n",
    "method = \"SF\""
   ]
  },
  {
   "cell_type": "code",
   "execution_count": 4,
   "id": "fdbb9eee",
   "metadata": {},
   "outputs": [
    {
     "name": "stdout",
     "output_type": "stream",
     "text": [
      "Avg Nodes:  116.0\n",
      "AvgEdges:  667.0\n"
     ]
    }
   ],
   "source": [
    "# Import data\n",
    "# Set the right folder !!!\n",
    "data = import_dataset(data_name,folder=\"../data/\")"
   ]
  },
  {
   "cell_type": "markdown",
   "id": "d0cd772f",
   "metadata": {},
   "source": [
    "### Classifier"
   ]
  },
  {
   "cell_type": "code",
   "execution_count": 6,
   "id": "d8711ac3",
   "metadata": {},
   "outputs": [],
   "source": [
    "oracle = Oracle(method,data,idc=2)"
   ]
  },
  {
   "cell_type": "code",
   "execution_count": 7,
   "id": "28afb9bc",
   "metadata": {},
   "outputs": [
    {
     "name": "stdout",
     "output_type": "stream",
     "text": [
      "[(0.72, 0), (0.7083333333333334, 3), (0.6666666666666666, 4), (0.64, 1), (0.56, 2)]\n",
      "{0: [KNeighborsClassifier(n_neighbors=23), SVC(kernel='linear')], 1: [KNeighborsClassifier(n_neighbors=2), SVC(kernel='linear')], 2: [KNeighborsClassifier(n_neighbors=9), SVC(kernel='linear')], 3: [KNeighborsClassifier(n_neighbors=10), SVC(kernel='linear')], 4: [KNeighborsClassifier(n_neighbors=1), SVC(kernel='linear')]}\n",
      "KNeighborsClassifier(n_neighbors=1)\n"
     ]
    },
    {
     "data": {
      "text/plain": [
       "<Oracle.Oracle at 0x7fa3401f0310>"
      ]
     },
     "execution_count": 7,
     "metadata": {},
     "output_type": "execute_result"
    }
   ],
   "source": [
    "oracle.train()"
   ]
  },
  {
   "cell_type": "code",
   "execution_count": 8,
   "id": "b9d5f4d0",
   "metadata": {
    "scrolled": true
   },
   "outputs": [
    {
     "name": "stdout",
     "output_type": "stream",
     "text": [
      "Results:\n",
      "- 58 TP;\n",
      "- 57 TN;\n",
      "- 5 FP;\n",
      "- 3 FN.\n",
      "Accuracy = 0.9349593495934959\n",
      "F1 =  0.9354838709677418\n"
     ]
    }
   ],
   "source": [
    "# Evaluate\n",
    "oracle.evaluate_classifier(data)"
   ]
  },
  {
   "cell_type": "markdown",
   "id": "2e1c8853",
   "metadata": {},
   "source": [
    "### Apply Density-based Counterfactual Search with Clique"
   ]
  },
  {
   "cell_type": "code",
   "execution_count": 14,
   "id": "bd7bde4a",
   "metadata": {},
   "outputs": [
    {
     "name": "stdout",
     "output_type": "stream",
     "text": [
      "0-1-2-3-4-5-6-7-8-9-10-11-12-13-14-15-16-17-18-19-20-21-22-23-24-25-26-27-28-29-30-31-32-33-34-35-36-37-38-39-40-41-42-43-44-45-46-47-48-49-50-51-52-53-54-55-56-57-58-59-60-61-62-63-64-65-66-67-68-69-70-71-72-73-74-75-76-77-78-79-80-81-82-83-84-85-86-87-88-89-90-91-92-93-94-95-96-97-98-99-100-101-102-103-104-105-106-107-108-109-110-111-112-113-114-115-116-117-118-119-120-121-122-CPU times: user 4min 47s, sys: 6min 2s, total: 10min 49s\n",
      "Wall time: 3min 23s\n"
     ]
    }
   ],
   "source": [
    "%%time\n",
    "new_info = []\n",
    "ggc = []\n",
    "sorted_method = \"region\"\n",
    "#sorted_method = \"triangle\"\n",
    "l_search_type = \"LO\"\n",
    "h_search_type = \"HC\"\n",
    "#sorted_method = \"random\"\n",
    "ijk = 0\n",
    "for g,y in data:\n",
    "    print(ijk,end=\"-\")\n",
    "    info_g,iter_dcs = dcs(g,y,oracle,sorted_method=sorted_method,\n",
    "                          g_for_low = l_search_type, g_for_high = h_search_type,\n",
    "                          dl = True, dh = False, k=2,\n",
    "                          b_max = 10,max_iter = 200,verbose = False)\n",
    "\n",
    "    g_c_i = info_g[-1][-1]\n",
    "    y_hat,y_c_hat = oracle.predict(g),oracle.predict(g_c_i)\n",
    "          \n",
    "    new_info.append((g,g_c_i,y,y_hat,y_c_hat,iter_dcs,edit_distance(g,g_c_i)))\n",
    "    \n",
    "    if y_hat!=y_c_hat:\n",
    "        g_cf = info_g[-1][-1]\n",
    "        ggc.append((g,info_g[-1][-1],y,oracle.predict(g),oracle.predict(g_cf)))\n",
    "    ijk+=1"
   ]
  },
  {
   "cell_type": "code",
   "execution_count": 15,
   "id": "3940fb04",
   "metadata": {},
   "outputs": [],
   "source": [
    "#g,g_c_i,y_hat,y_c,iter_i,ed_i\n",
    "c_cg_found = []\n",
    "df_l = []\n",
    "i = 0\n",
    "for info_i in new_info:\n",
    "    g, g_c_i, y, y_hat, y_c, iter_i, ed_i = info_i\n",
    "    # is it a counterfactual?\n",
    "    df_l.append([i,\"All\",y_hat,iter_i,ed_i])\n",
    "    if y_hat!=y_c:\n",
    "        v_c = True\n",
    "        df_l.append([i,\"C-found\",y_hat,iter_i,ed_i])\n",
    "        c_cg_found.append((i,g,g_c_i,y_hat,\"RCLI\"))\n",
    "    else:\n",
    "        v_c = False\n",
    "    # is it well-classified?\n",
    "    if y_hat==y:\n",
    "        c_ok = \"Good\"\n",
    "    else:\n",
    "        c_ok = \"Miss\"\n",
    "    df_l.append([i,c_ok,y_hat,iter_i,ed_i])\n",
    "    i += 1"
   ]
  },
  {
   "cell_type": "code",
   "execution_count": 16,
   "id": "8b3b4732",
   "metadata": {},
   "outputs": [],
   "source": [
    "# Save results\n",
    "df = pd.DataFrame(df_l, columns=['g_id','Status','Predicted Class','Iter','Density'])\n",
    "COUNT_SEARCH = \"rdcg_{}_{}\".format(l_search_type,h_search_type)\n",
    "df.to_pickle(\"results/\"+\"{}_{}_{}.pickle\".format(data_name,method,COUNT_SEARCH))"
   ]
  },
  {
   "cell_type": "code",
   "execution_count": 17,
   "id": "3bbf3f25",
   "metadata": {},
   "outputs": [],
   "source": [
    "COUNT_SEARCH = \"RCLI\"\n",
    "df = pd.DataFrame(c_cg_found, columns=['gid','G','C','y','Method'])\n",
    "df.to_pickle(\"CG/\"+\"{}_{}_{}_cg.pickle\".format(data_name,method,COUNT_SEARCH))"
   ]
  },
  {
   "cell_type": "markdown",
   "id": "7656de2f",
   "metadata": {},
   "source": [
    "### Apply Backward search (BW)"
   ]
  },
  {
   "cell_type": "code",
   "execution_count": 17,
   "id": "56ba30dc",
   "metadata": {},
   "outputs": [],
   "source": [
    "def edit_distance(g_1,g_2):\n",
    "    edg1 = set(g_1.edges())\n",
    "    edg2 = set(g_2.edges())\n",
    "    return round(len(edg1.symmetric_difference(edg2))/len(edg1.union(edg2)),3)\n",
    "def edit_distance_raw(g_1,g_2):\n",
    "    edg1 = set(g_1.edges())\n",
    "    edg2 = set(g_2.edges())\n",
    "    return len(edg1.symmetric_difference(edg2))"
   ]
  },
  {
   "cell_type": "code",
   "execution_count": 18,
   "id": "34b7bd2d",
   "metadata": {},
   "outputs": [],
   "source": [
    "def less_used_edges(g1,g2):\n",
    "    \"\"\"\n",
    "    \"\"\"\n",
    "    edg1 = set(g1.edges())\n",
    "    edg2 = set(g2.edges())\n",
    "    sd = list(edg1.symmetric_difference(edg2))\n",
    "    de = {}\n",
    "    for i,j in sd:\n",
    "        de.setdefault(i,0)\n",
    "        de[i] += 1\n",
    "        de.setdefault(j,0)\n",
    "        de[j] += 1\n",
    "    score_edges = [((i,j),de[i]+de[j]) for i, j in sd]\n",
    "    score_edges.sort(key=lambda y:y[1])\n",
    "    return score_edges,de"
   ]
  },
  {
   "cell_type": "code",
   "execution_count": 19,
   "id": "1c8399b3",
   "metadata": {},
   "outputs": [],
   "source": [
    "def edge_backward(g,gc):\n",
    "    \"\"\"Edge level score\n",
    "    \"\"\"\n",
    "    score_edges, de = less_used_edges(g,gc)\n",
    "    gci = gc.copy()\n",
    "    y_hat = oracle.predict(g)\n",
    "    yci = oracle.predict(gci)\n",
    "    ider_count = 1\n",
    "    #print(\"original {}, count_i {}\".format(y_hat,yci))\n",
    "    i = 0\n",
    "    gci_new = gci.copy()\n",
    "    for e,scorei in score_edges:\n",
    "        if gci.has_edge(*e):\n",
    "            gci_new.remove_edge(*e)\n",
    "            #print(\"Removed \",e)\n",
    "        else:\n",
    "            gci_new.add_edge(*e)\n",
    "            #print(\"Add \",e)\n",
    "        yci = oracle.predict(gci_new)\n",
    "        ider_count+=1\n",
    "        #print(\"original {}, count_i {}\".format(y_hat,yci))\n",
    "        if y_hat==yci:\n",
    "            #print(\"Blocked \", i)\n",
    "            return gci,ider_count\n",
    "        gci = gci_new.copy()\n",
    "        i += 1\n",
    "    #print(\"Not blocked \", i)\n",
    "    return gci,ider_count"
   ]
  },
  {
   "cell_type": "code",
   "execution_count": 20,
   "id": "4c2d2657",
   "metadata": {},
   "outputs": [
    {
     "name": "stdout",
     "output_type": "stream",
     "text": [
      "0-1-2-3-4-5-6-7-8-9-10-11-12-13-14-15-16-17-18-19-20-21-22-23-24-25-26-27-28-29-30-31-32-33-34-35-36-37-38-39-40-41-42-43-44-45-46-47-48-49-50-51-52-53-54-55-56-57-58-59-60-61-62-63-64-65-66-67-68-69-70-71-72-73-74-75-76-77-78-79-80-81-82-83-84-85-86-87-88-89-90-91-92-93-94-95-96-97-98-99-100-101-102-103-104-105-106-107-108-109-110-111-112-113-114-115-116-117-118-119-120-121-122-"
     ]
    }
   ],
   "source": [
    "bw_info = []\n",
    "bw_graphs = []\n",
    "new_info_back = []\n",
    "for new_info_i in new_info:\n",
    "    print(len(new_info_back),end='-')\n",
    "    g,gc,y,y_hat,y_c,old_iter,old_ed = new_info_i\n",
    "    old_ed_raw = edit_distance_raw(g,gc)\n",
    "    if y_hat!=y_c:\n",
    "        gccc,new_iter = edge_backward(g,gc)\n",
    "    else:\n",
    "        gccc = gc.copy()\n",
    "        new_iter = 0\n",
    "    new_ed = edit_distance_raw(g,gccc)\n",
    "    bw_info.append((old_ed-new_ed,old_ed,y_hat,y_c,edit_distance(g,gccc)))\n",
    "    bw_graphs.append((g,gccc,y_hat))\n",
    "    new_info_back.append((g,gccc,y,oracle.predict(g),oracle.predict(gccc),old_iter+new_iter,edit_distance(g,gccc)))"
   ]
  },
  {
   "cell_type": "code",
   "execution_count": 21,
   "id": "c42ad700",
   "metadata": {},
   "outputs": [],
   "source": [
    "#g,g_c_i,y_hat,y_c,iter_i,ed_i\n",
    "df_l = []\n",
    "c_cg_found = []\n",
    "i = 0\n",
    "for info_i in new_info_back:\n",
    "    g, g_c_i, y, y_hat, y_c, iter_i, ed_i = info_i\n",
    "    # is it a counterfactual?\n",
    "    df_l.append([i,\"All\",y_hat,iter_i,ed_i])\n",
    "    if y_hat!=y_c:\n",
    "        v_c = True\n",
    "        df_l.append([i,\"C-found\",y_hat,iter_i,ed_i])\n",
    "        c_cg_found.append((i,g,g_c_i,y_hat,\"RCLI+BW\"))\n",
    "    else:\n",
    "        v_c = False\n",
    "    # is it well-classified?\n",
    "    if y_hat==y:\n",
    "        c_ok = \"Good\"\n",
    "    else:\n",
    "        c_ok = \"Miss\"\n",
    "    df_l.append([i,c_ok,y_hat,iter_i,ed_i])\n",
    "    i += 1"
   ]
  },
  {
   "cell_type": "code",
   "execution_count": 22,
   "id": "9345e7e7",
   "metadata": {},
   "outputs": [],
   "source": [
    "COUNT_SEARCH = \"RCLI+BW\"\n",
    "df = pd.DataFrame(df_l, columns=['g_id','Status','Predicted Class','Iter','Density'])\n",
    "COUNT_SEARCH = \"dcg_{}_{}_RCLI+BW\".format(l_search_type, h_search_type)\n",
    "df.to_pickle(\"results/\"+\"{}_{}_{}.pickle\".format(data_name,method,COUNT_SEARCH))"
   ]
  },
  {
   "cell_type": "code",
   "execution_count": 23,
   "id": "cd71607a",
   "metadata": {},
   "outputs": [],
   "source": [
    "df = pd.DataFrame(c_cg_found, columns=['gid','G','C','y','Method'])\n",
    "df.to_pickle(\"CG/\"+\"{}_{}_{}_cg.pickle\".format(data_name,method,COUNT_SEARCH))"
   ]
  }
 ],
 "metadata": {
  "kernelspec": {
   "display_name": "Python 3 (ipykernel)",
   "language": "python",
   "name": "python3"
  },
  "language_info": {
   "codemirror_mode": {
    "name": "ipython",
    "version": 3
   },
   "file_extension": ".py",
   "mimetype": "text/x-python",
   "name": "python",
   "nbconvert_exporter": "python",
   "pygments_lexer": "ipython3",
   "version": "3.9.15"
  }
 },
 "nbformat": 4,
 "nbformat_minor": 5
}
