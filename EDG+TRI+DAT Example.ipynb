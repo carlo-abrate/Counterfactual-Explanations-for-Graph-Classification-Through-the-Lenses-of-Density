{
 "cells": [
  {
   "cell_type": "code",
   "execution_count": null,
   "id": "4c210e66",
   "metadata": {},
   "outputs": [],
   "source": [
    "from dataset import import_dataset\n",
    "from Oracle import Oracle\n",
    "import pickle\n",
    "import pandas as pd\n",
    "import random\n",
    "import networkx as nx\n",
    "import seaborn as sns\n",
    "import matplotlib.pyplot as plt\n",
    "import numpy as np\n",
    "import itertools"
   ]
  },
  {
   "cell_type": "code",
   "execution_count": null,
   "id": "44efb64d",
   "metadata": {},
   "outputs": [],
   "source": [
    "from warnings import simplefilter\n",
    "simplefilter(action='ignore', category=FutureWarning)"
   ]
  },
  {
   "cell_type": "markdown",
   "id": "609bff9d",
   "metadata": {},
   "source": [
    "### Dataset"
   ]
  },
  {
   "cell_type": "code",
   "execution_count": null,
   "id": "9643ad7a",
   "metadata": {},
   "outputs": [],
   "source": [
    "# Dataset name\n",
    "method = \"SF\"\n",
    "#method = \"CS\"\n",
    "#data_name = \"OHSU\"\n",
    "#data_name = \"Peking_1\"\n",
    "#data_name = \"KKI\"\n",
    "#method = \"contrast\"\n",
    "data_name = \"autism\"\n",
    "#data_name = \"bip80\"\n",
    "#data_name = \"adhd_90\"\n",
    "#data_name = \"adhdm_90\"\n",
    "#data_name = \"bipolar90\"\n",
    "\n",
    "training = True\n"
   ]
  },
  {
   "cell_type": "code",
   "execution_count": null,
   "id": "fdbb9eee",
   "metadata": {},
   "outputs": [],
   "source": [
    "# Import data\n",
    "# Set the right folder !!!\n",
    "data = import_dataset(data_name,folder=\"../data/\")"
   ]
  },
  {
   "cell_type": "code",
   "execution_count": null,
   "id": "cded6658",
   "metadata": {},
   "outputs": [],
   "source": [
    "numeric_indices = [index for index in range(g.number_of_nodes())]\n",
    "node_indices = sorted([node for node in g.nodes()])\n",
    "assert numeric_indices == node_indices, \"The node indexing is wrong.\"\n"
   ]
  },
  {
   "cell_type": "markdown",
   "id": "d0cd772f",
   "metadata": {},
   "source": [
    "### Classifier"
   ]
  },
  {
   "cell_type": "code",
   "execution_count": null,
   "id": "d8711ac3",
   "metadata": {},
   "outputs": [],
   "source": [
    "# Bipolar\n",
    "oracle = Oracle(method,data,idc=2)"
   ]
  },
  {
   "cell_type": "code",
   "execution_count": null,
   "id": "28afb9bc",
   "metadata": {},
   "outputs": [],
   "source": [
    "oracle.train()"
   ]
  },
  {
   "cell_type": "code",
   "execution_count": null,
   "id": "e4651fe5",
   "metadata": {},
   "outputs": [],
   "source": [
    "g = data[0][0]\n",
    "oracle.predict(g)"
   ]
  },
  {
   "cell_type": "code",
   "execution_count": null,
   "id": "b9d5f4d0",
   "metadata": {
    "scrolled": true
   },
   "outputs": [],
   "source": [
    "# Evaluate\n",
    "oracle.evaluate_classifier(data)"
   ]
  },
  {
   "cell_type": "markdown",
   "id": "18e2bb03",
   "metadata": {},
   "source": [
    "### Triangles-base"
   ]
  },
  {
   "cell_type": "code",
   "execution_count": null,
   "id": "59f2d9de",
   "metadata": {},
   "outputs": [],
   "source": [
    "def edit_distance(g_1,g_2):\n",
    "    edg1 = set(g_1.edges())\n",
    "    edg2 = set(g_2.edges())\n",
    "    return round(len(edg1.symmetric_difference(edg2))/len(edg1.union(edg2)),3)"
   ]
  },
  {
   "cell_type": "code",
   "execution_count": null,
   "id": "3eafad0f",
   "metadata": {},
   "outputs": [],
   "source": [
    "def get_triangles(G, v):\n",
    "    \"\"\"Get all the triangles for a node\n",
    "    Input:\n",
    "        - Graph: G\n",
    "        - node_id: v\n",
    "    Output:\n",
    "        - list: [(v_i,v_j)], where v_i and v_j are part of a triangle vit v.\n",
    "    \"\"\"\n",
    "    neighbors1 = set(G.neighbors(v)) - {v}\n",
    "    triangle_edges = []\n",
    "    for nbr1, nbr2 in itertools.combinations(neighbors1, 2):\n",
    "        if G.has_edge(nbr1, nbr2):\n",
    "            triangle_edges.append((nbr1,nbr2))\n",
    "    return triangle_edges"
   ]
  },
  {
   "cell_type": "code",
   "execution_count": null,
   "id": "04ab3dc5",
   "metadata": {},
   "outputs": [],
   "source": [
    "def get_tri_sorting(g):\n",
    "    \"\"\"\n",
    "    \"\"\"\n",
    "    d_tri = nx.triangles(g)\n",
    "    e_empty = []\n",
    "    e_fill = []\n",
    "    for e1, e2 in itertools.combinations(g.nodes(), 2):\n",
    "        e1_s = d_tri[e1]\n",
    "        e2_s = d_tri[e2]\n",
    "        if g.has_edge(e1,e2):\n",
    "            e_empty.append((e1_s+e2_s,(e1,e2)))\n",
    "        else:\n",
    "            e_fill.append((e1_s+e2_s,(e1,e2)))\n",
    "    e_empty.sort(reverse=True)\n",
    "    e_fill.sort()\n",
    "    return e_empty, e_fill"
   ]
  },
  {
   "cell_type": "code",
   "execution_count": null,
   "id": "c4fab7bd",
   "metadata": {},
   "outputs": [],
   "source": [
    "def tri_based_search(g,e_empty,e_fill):\n",
    "    \"\"\"\n",
    "    \"\"\"\n",
    "    y_hat = oracle.predict(g)\n",
    "    y_c = y_hat\n",
    "    i = 0\n",
    "    g_c_i = g.copy()\n",
    "    while((y_hat==y_c) & (i<(len(e_empty)-2))):\n",
    "        #print(i,len(e_empty))\n",
    "        e_e_i = e_empty[i][1]\n",
    "        e_f_i = e_fill[i][1]\n",
    "        # remove\n",
    "        #print(e_e_i)\n",
    "        g_c_i.remove_edge(e_e_i[0],e_e_i[1])\n",
    "        y_c = oracle.predict(g_c_i)\n",
    "        #print(\"i. remove: \",y_c)\n",
    "        # add\n",
    "        g_c_i.add_edge(e_f_i[0],e_f_i[1])\n",
    "        y_c = oracle.predict(g_c_i)\n",
    "        #print(\"i. add: \",y_c)\n",
    "        i += 1\n",
    "    return g_c_i,i-1"
   ]
  },
  {
   "cell_type": "code",
   "execution_count": null,
   "id": "9b027910",
   "metadata": {},
   "outputs": [],
   "source": [
    "%%time\n",
    "info = []\n",
    "for g,y in data:\n",
    "    print(y,end=\"-\")\n",
    "    e_empty, e_fill = get_tri_sorting(g)\n",
    "    g_c_i, iter_i = tri_based_search(g,e_empty,e_fill)\n",
    "    ed_i = edit_distance(g,g_c_i)\n",
    "    y_hat = oracle.predict(g)\n",
    "    y_c = oracle.predict(g_c_i)\n",
    "    #print(iter_i,ed_i)\n",
    "    info.append((g,g_c_i,y,y_hat,y_c,iter_i,ed_i))"
   ]
  },
  {
   "cell_type": "code",
   "execution_count": null,
   "id": "90a0d9e7",
   "metadata": {},
   "outputs": [],
   "source": [
    "len(info)"
   ]
  },
  {
   "cell_type": "code",
   "execution_count": null,
   "id": "332f8ecf",
   "metadata": {},
   "outputs": [],
   "source": [
    "#g,g_c_i,y_hat,y_c,iter_i,ed_i\n",
    "c_cg_found = []\n",
    "df_l = []\n",
    "i = 0\n",
    "for info_i in info:\n",
    "    g, g_c_i, y, y_hat, y_c, iter_i, ed_i = info_i\n",
    "    # is it a counterfactual?\n",
    "    df_l.append([i,\"All\",y_hat,iter_i,ed_i])\n",
    "    if y_hat!=y_c:\n",
    "        v_c = True\n",
    "        df_l.append([i,\"C-found\",y_hat,iter_i,ed_i])\n",
    "        c_cg_found.append((i,g,g_c_i,y_hat,\"TRI\"))\n",
    "    else:\n",
    "        v_c = False\n",
    "    # is it well-classified?\n",
    "    if y_hat==y:\n",
    "        c_ok = \"Good\"\n",
    "    else:\n",
    "        c_ok = \"Miss\"\n",
    "    df_l.append([i,c_ok,y_hat,iter_i,ed_i])\n",
    "    i += 1"
   ]
  },
  {
   "cell_type": "code",
   "execution_count": null,
   "id": "f3fceb8e",
   "metadata": {},
   "outputs": [],
   "source": [
    "df = pd.DataFrame(df_l, columns=['g_id','Status','Predicted Class','Iter','Density'])"
   ]
  },
  {
   "cell_type": "code",
   "execution_count": null,
   "id": "bc1345f2",
   "metadata": {},
   "outputs": [],
   "source": [
    "COUNT_SEARCH = \"tri\"\n",
    "df.to_pickle(\"results/\"+\"{}_{}_{}.pickle\".format(data_name,method,COUNT_SEARCH))"
   ]
  },
  {
   "cell_type": "code",
   "execution_count": null,
   "id": "c08feb70",
   "metadata": {},
   "outputs": [],
   "source": [
    "df = pd.DataFrame(c_cg_found, columns=['gid','G','C','y','Method'])\n",
    "df.to_pickle(\"CG/\"+\"{}_{}_{}_cg.pickle\".format(data_name,method,COUNT_SEARCH))"
   ]
  },
  {
   "cell_type": "markdown",
   "id": "509c4b01",
   "metadata": {},
   "source": [
    "### dataset-based"
   ]
  },
  {
   "cell_type": "code",
   "execution_count": null,
   "id": "a5249146",
   "metadata": {},
   "outputs": [],
   "source": [
    "def edit_distance(g_1,g_2):\n",
    "    edg1 = set(g_1.edges())\n",
    "    edg2 = set(g_2.edges())\n",
    "    return round(len(edg1.symmetric_difference(edg2))/len(edg1.union(edg2)),3)"
   ]
  },
  {
   "cell_type": "code",
   "execution_count": null,
   "id": "2d53bc26",
   "metadata": {},
   "outputs": [],
   "source": [
    "def dataset_strategy(gs,g_o,oracle,y_c):\n",
    "    \"\"\"\n",
    "    \"\"\"\n",
    "    orac_call = 0\n",
    "    candidate = []\n",
    "    orac_call+=1\n",
    "    for g_id,g_info in enumerate(gs):\n",
    "        g_i,y = g_info\n",
    "        y_cc = oracle.predict(g_i)\n",
    "        orac_call+=1\n",
    "        if y_cc==y_c:\n",
    "            candidate.append((edit_distance(g_i,g_o),g_id))\n",
    "    candidate.sort()\n",
    "    ed_best, g_id_best = candidate[0]\n",
    "    return ed_best, gs[g_id_best][0],orac_call,g_id_best"
   ]
  },
  {
   "cell_type": "code",
   "execution_count": null,
   "id": "dba2631b",
   "metadata": {},
   "outputs": [],
   "source": [
    "info_dataset = []\n",
    "ds_map = []\n",
    "ds_results = []\n",
    "i = 0\n",
    "for g,y in data:\n",
    "    print(i,end=\"-\")\n",
    "    y_hat = oracle.predict(g)\n",
    "    y_c = 1-y_hat\n",
    "    ds_edit_i,g_c_i,iter_count_i,g_c_id = dataset_strategy(data,g,oracle,y_c)\n",
    "    ds_results.append(ds_edit_i)\n",
    "    ds_map.append(g_c_id)\n",
    "    i+=1\n",
    "    info_dataset.append((g,g_c_i,y,y_hat,y_c,iter_count_i,ds_edit_i))"
   ]
  },
  {
   "cell_type": "code",
   "execution_count": null,
   "id": "e033f367",
   "metadata": {},
   "outputs": [],
   "source": [
    "#g,g_c_i,y_hat,y_c,iter_i,ed_i\n",
    "c_cg_found = []\n",
    "df_l = []\n",
    "i = 0\n",
    "for info_i in info_dataset:\n",
    "    g, g_c_i, y, y_hat, y_c, iter_i, ed_i = info_i\n",
    "    # is it a counterfactual?\n",
    "    df_l.append([i,\"All\",y_hat,iter_i,ed_i])\n",
    "    if y_hat!=y_c:\n",
    "        v_c = True\n",
    "        df_l.append([i,\"C-found\",y_hat,iter_i,ed_i])\n",
    "        c_cg_found.append((i,g,g_c_i,y_hat,\"DATASET\"))\n",
    "    else:\n",
    "        v_c = False\n",
    "    # is it well-classified?\n",
    "    if y_hat==y:\n",
    "        c_ok = \"Good\"\n",
    "    else:\n",
    "        c_ok = \"Miss\"\n",
    "    df_l.append([i,c_ok,y_hat,iter_i,ed_i])\n",
    "    i += 1"
   ]
  },
  {
   "cell_type": "code",
   "execution_count": null,
   "id": "5b1e4a8b",
   "metadata": {},
   "outputs": [],
   "source": [
    "df_dataset = pd.DataFrame(df_l, columns=['g_id','Status','Predicted Class','Iter','Density'])\n",
    "COUNT_SEARCH = \"dataset\"\n",
    "df_dataset.to_pickle(\"results/\"+\"{}_{}_{}.pickle\".format(data_name,method,COUNT_SEARCH))"
   ]
  },
  {
   "cell_type": "code",
   "execution_count": null,
   "id": "fa8319dc",
   "metadata": {},
   "outputs": [],
   "source": [
    "df = pd.DataFrame(c_cg_found, columns=['gid','G','C','y','Method'])\n",
    "COUNT_SEARCH = \"dataset\"\n",
    "df.to_pickle(\"CG/\"+\"{}_{}_{}_cg.pickle\".format(data_name,method,COUNT_SEARCH))"
   ]
  },
  {
   "cell_type": "markdown",
   "id": "3c4b56b2",
   "metadata": {},
   "source": [
    "### Edge-based"
   ]
  },
  {
   "cell_type": "code",
   "execution_count": null,
   "id": "1812109a",
   "metadata": {},
   "outputs": [],
   "source": [
    "def edit_distance_raw(g_1,g_2):\n",
    "    edg1 = set(g_1.edges())\n",
    "    edg2 = set(g_2.edges())\n",
    "    return len(edg1.symmetric_difference(edg2))\n",
    "def get_change_list(g_1,g_2):\n",
    "    edg1 = set(g_1.edges())\n",
    "    edg2 = set(g_2.edges())\n",
    "    return list(edg1.symmetric_difference(edg2))"
   ]
  },
  {
   "cell_type": "code",
   "execution_count": null,
   "id": "c3efc74a",
   "metadata": {},
   "outputs": [],
   "source": [
    "def bb(g,gc1,y_bar,k=5,l_max=2000):\n",
    "    \"\"\"\n",
    "    \"\"\"\n",
    "    gc = gc1.copy()\n",
    "    edges = get_change_list(g,gc)\n",
    "    d = edit_distance_raw(g,gc)\n",
    "    random.shuffle(edges)\n",
    "    #\n",
    "    li=0\n",
    "    while(li<l_max and len(edges)>0 and d>1):\n",
    "        ki = min(k,len(edges))\n",
    "        gci = gc.copy()\n",
    "        #get change list\n",
    "        edges_i = [edges.pop(0) for i in range(ki)]\n",
    "        #update\n",
    "        for edge in edges_i:\n",
    "            if gci.has_edge(*edge):\n",
    "                gci.remove_edge(*edge)\n",
    "                #print(\"Removed \",e)\n",
    "            else:\n",
    "                gci.add_edge(*edge)\n",
    "                #print(\"Add \",e)\n",
    "        #check\n",
    "        r = oracle.predict(gci)\n",
    "        li += 1\n",
    "        if r==y_bar:\n",
    "            gc = gci.copy()\n",
    "            d = edit_distance_raw(g,gc)\n",
    "            #print('ok --> ',r,d,l,k)\n",
    "            #info.append((r,d,li,ki))\n",
    "            k+=1\n",
    "        else:\n",
    "            d = edit_distance_raw(g,gc)\n",
    "            #info.append((r,d,li,ki))\n",
    "            if k>1:\n",
    "                k-=1\n",
    "                edges = edges + edges_i\n",
    "    return gc,edit_distance(g,gc),li#,info"
   ]
  },
  {
   "cell_type": "code",
   "execution_count": null,
   "id": "faf2ecc3",
   "metadata": {},
   "outputs": [],
   "source": [
    "%%time\n",
    "info_edge = []\n",
    "for g_id, g_info in enumerate(data):\n",
    "    print(g_id,end=\"-\")\n",
    "    g,y = g_info\n",
    "    g_c_i = data[ds_map[g_id]][0]\n",
    "    #g_c_i = g.copy()\n",
    "    y_hat = oracle.predict(g)\n",
    "    gc,ed_i,iter_i = bb(g,g_c_i,1-y_hat,k=5,l_max=2000)\n",
    "    y_c = oracle.predict(gc)\n",
    "    info_edge.append((g,gc,y,y_hat,y_c,iter_i,ed_i))"
   ]
  },
  {
   "cell_type": "code",
   "execution_count": null,
   "id": "2c7efa6f",
   "metadata": {},
   "outputs": [],
   "source": [
    "#g,g_c_i,y_hat,y_c,iter_i,ed_i\n",
    "c_cg_found = []\n",
    "df_l = []\n",
    "i = 0\n",
    "for info_i in info_edge:\n",
    "    g, g_c_i, y, y_hat, y_c, iter_i, ed_i = info_i\n",
    "    # is it a counterfactual?\n",
    "    df_l.append([i,\"All\",y_hat,iter_i,ed_i])\n",
    "    if y_hat!=y_c:\n",
    "        v_c = True\n",
    "        df_l.append([i,\"C-found\",y_hat,iter_i,ed_i])\n",
    "        c_cg_found.append((i,g,g_c_i,y_hat,\"DATASET+BW\"))\n",
    "    else:\n",
    "        v_c = False\n",
    "    # is it well-classified?\n",
    "    if y_hat==y:\n",
    "        c_ok = \"Good\"\n",
    "    else:\n",
    "        c_ok = \"Miss\"\n",
    "    df_l.append([i,c_ok,y_hat,iter_i,ed_i])\n",
    "    i += 1"
   ]
  },
  {
   "cell_type": "code",
   "execution_count": null,
   "id": "a773e077",
   "metadata": {},
   "outputs": [],
   "source": [
    "df_edge = pd.DataFrame(df_l, columns=['g_id','Status','Predicted Class','Iter','Density'])"
   ]
  },
  {
   "cell_type": "code",
   "execution_count": null,
   "id": "537715a7",
   "metadata": {},
   "outputs": [],
   "source": [
    "COUNT_SEARCH = \"edge\"\n",
    "df_edge.to_pickle(\"results/\"+\"{}_{}_{}.pickle\".format(data_name,method,COUNT_SEARCH))"
   ]
  },
  {
   "cell_type": "code",
   "execution_count": null,
   "id": "f7bccb58",
   "metadata": {},
   "outputs": [],
   "source": [
    "df = pd.DataFrame(c_cg_found, columns=['gid','G','C','y','Method'])\n",
    "df.to_pickle(\"CG/\"+\"{}_{}_{}_cg.pickle\".format(data_name,method,COUNT_SEARCH))"
   ]
  },
  {
   "cell_type": "markdown",
   "id": "97f1d1fc",
   "metadata": {},
   "source": [
    "### Only Edge"
   ]
  },
  {
   "cell_type": "code",
   "execution_count": null,
   "id": "04eda249",
   "metadata": {},
   "outputs": [],
   "source": [
    "def edit_distance_raw(g_1,g_2):\n",
    "    edg1 = set(g_1.edges())\n",
    "    edg2 = set(g_2.edges())\n",
    "    return len(edg1.symmetric_difference(edg2))\n",
    "\n",
    "def obl_change(g_i):\n",
    "    edg_r = list(set(g_i.edges()))\n",
    "    cg = nx.complement(g_i)\n",
    "    edg_a = list(set(cg.edges()))\n",
    "    #\n",
    "    #print(edg_a)\n",
    "    random.shuffle(edg_r)\n",
    "    random.shuffle(edg_a)\n",
    "    return edg_r,edg_a"
   ]
  },
  {
   "cell_type": "code",
   "execution_count": null,
   "id": "4bd06e9c",
   "metadata": {},
   "outputs": [],
   "source": [
    "def oblivious_search(g,y_bar,l_max=2000):\n",
    "    \"\"\"\n",
    "    \"\"\"\n",
    "    edges_rem,edges_add = obl_change(g)\n",
    "    #\n",
    "    gci = g.copy()\n",
    "    li=0\n",
    "    while(li<l_max and len(edges_rem)>0):\n",
    "        # select\n",
    "        edges_r_i = edges_rem.pop(0)\n",
    "        edges_a_i = edges_add.pop(0)\n",
    "        # update\n",
    "        #print(edges_r_i,edges_a_i)\n",
    "        gci.remove_edge(*edges_r_i)\n",
    "        gci.add_edge(*edges_a_i)\n",
    "        # check\n",
    "        r = oracle.predict(gci)\n",
    "        li += 1\n",
    "        if r==y_bar:\n",
    "            return gci,edit_distance(g,gci),li#,info\n",
    "    return g,0,l_max#,info"
   ]
  },
  {
   "cell_type": "code",
   "execution_count": null,
   "id": "a5c7291b",
   "metadata": {},
   "outputs": [],
   "source": [
    "%%time\n",
    "info_edge = []\n",
    "for g_id, g_info in enumerate(data):\n",
    "    print(g_id,end=\"-\")\n",
    "    g,y = g_info\n",
    "    y_hat = oracle.predict(g)\n",
    "    gc,ed_i,iter_i = oblivious_search(g,1-y_hat,l_max=2000)\n",
    "    y_c = oracle.predict(gc)\n",
    "    info_edge.append((g,gc,y,y_hat,y_c,iter_i,ed_i))"
   ]
  },
  {
   "cell_type": "code",
   "execution_count": null,
   "id": "2d85c737",
   "metadata": {},
   "outputs": [],
   "source": [
    "#g,g_c_i,y_hat,y_c,iter_i,ed_i\n",
    "c_cg_found = []\n",
    "df_l = []\n",
    "i = 0\n",
    "for info_i in info_edge:\n",
    "    g, g_c_i, y, y_hat, y_c, iter_i, ed_i = info_i\n",
    "    # is it a counterfactual?\n",
    "    df_l.append([i,\"All\",y_hat,iter_i,ed_i])\n",
    "    if y_hat!=y_c:\n",
    "        v_c = True\n",
    "        df_l.append([i,\"C-found\",y_hat,iter_i,ed_i])\n",
    "        c_cg_found.append((i,g,g_c_i,y_hat,\"EDG\"))\n",
    "    else:\n",
    "        v_c = False\n",
    "    # is it well-classified?\n",
    "    if y_hat==y:\n",
    "        c_ok = \"Good\"\n",
    "    else:\n",
    "        c_ok = \"Miss\"\n",
    "    df_l.append([i,c_ok,y_hat,iter_i,ed_i])\n",
    "    i += 1"
   ]
  },
  {
   "cell_type": "code",
   "execution_count": null,
   "id": "a2760dce",
   "metadata": {},
   "outputs": [],
   "source": [
    "df_edge_obl = pd.DataFrame(df_l, columns=['g_id','Status','Predicted Class','Iter','Density'])"
   ]
  },
  {
   "cell_type": "code",
   "execution_count": null,
   "id": "77bf8ec9",
   "metadata": {},
   "outputs": [],
   "source": [
    "COUNT_SEARCH = \"edge obl\"\n",
    "df_edge_obl.to_pickle(\"results/\"+\"{}_{}_{}.pickle\".format(data_name,method,COUNT_SEARCH))"
   ]
  },
  {
   "cell_type": "code",
   "execution_count": null,
   "id": "08588f81",
   "metadata": {},
   "outputs": [],
   "source": [
    "df = pd.DataFrame(c_cg_found, columns=['gid','G','C','y','Method'])\n",
    "df.to_pickle(\"CG/\"+\"{}_{}_{}_cg.pickle\".format(data_name,method,COUNT_SEARCH))"
   ]
  }
 ],
 "metadata": {
  "kernelspec": {
   "display_name": "Python 3 (ipykernel)",
   "language": "python",
   "name": "python3"
  },
  "language_info": {
   "codemirror_mode": {
    "name": "ipython",
    "version": 3
   },
   "file_extension": ".py",
   "mimetype": "text/x-python",
   "name": "python",
   "nbconvert_exporter": "python",
   "pygments_lexer": "ipython3",
   "version": "3.9.15"
  }
 },
 "nbformat": 4,
 "nbformat_minor": 5
}
